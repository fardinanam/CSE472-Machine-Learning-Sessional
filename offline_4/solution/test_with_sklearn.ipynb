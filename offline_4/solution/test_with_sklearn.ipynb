{
 "cells": [
  {
   "cell_type": "code",
   "execution_count": null,
   "metadata": {},
   "outputs": [],
   "source": [
    "# use gaussian mixture model to cluster the data\n",
    "\n",
    "import numpy as np\n",
    "import matplotlib.pyplot as plt\n",
    "from sklearn.mixture import GaussianMixture\n",
    "from sklearn.decomposition import PCA\n",
    "from sklearn.preprocessing import StandardScaler\n",
    "\n",
    "# load data\n",
    "data = np.loadtxt('../datasets/2D_data_points_2.txt', delimiter=',')\n",
    "fig, ax = plt.subplots(1, 3, figsize=(12, 4))\n",
    "ax[0].scatter(data[:,0], data[:,1])\n",
    "\n",
    "# standardize data\n",
    "scaler = StandardScaler()\n",
    "data = scaler.fit_transform(data)\n",
    "\n",
    "\n",
    "# reduce dimension\n",
    "pca = PCA(n_components=2)\n",
    "data = pca.fit_transform(data)\n",
    "\n",
    "ax[1].scatter(data[:,0], data[:,1])\n",
    "plt.show()\n",
    "\n",
    "# fit model\n",
    "# run the model for different number of clusters and pick the best one\n",
    "\n",
    "best_gmm = None\n",
    "log_likelihood = -np.inf\n",
    "for k in range(3, 8):\n",
    "    gmm = GaussianMixture(n_components=k, covariance_type='full')\n",
    "    gmm.fit(data)\n",
    "    labels = gmm.predict(data)\n",
    "    if gmm.score(data) > log_likelihood:\n",
    "        best_gmm = gmm\n",
    "        log_likelihood = gmm.score(data)\n",
    "\n",
    "    print('k = {}, log likelihood = {}'.format(k, gmm.score(data)))\n",
    "\n",
    "gmm = best_gmm\n",
    "labels = gmm.predict(data)\n",
    "\n",
    "print('best k = {}, log likelihood = {}'.format(gmm.n_components, gmm.score(data)))\n",
    "\n",
    "# plot\n",
    "plt.scatter(data[:,0], data[:,1], c=labels)\n",
    "plt.show()\n"
   ]
  },
  {
   "cell_type": "code",
   "execution_count": null,
   "metadata": {},
   "outputs": [],
   "source": []
  }
 ],
 "metadata": {
  "kernelspec": {
   "display_name": "env",
   "language": "python",
   "name": "python3"
  },
  "language_info": {
   "codemirror_mode": {
    "name": "ipython",
    "version": 3
   },
   "file_extension": ".py",
   "mimetype": "text/x-python",
   "name": "python",
   "nbconvert_exporter": "python",
   "pygments_lexer": "ipython3",
   "version": "3.9.1"
  }
 },
 "nbformat": 4,
 "nbformat_minor": 2
}
